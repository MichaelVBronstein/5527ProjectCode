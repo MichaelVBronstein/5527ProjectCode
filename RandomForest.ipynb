{
  "nbformat": 4,
  "nbformat_minor": 0,
  "metadata": {
    "colab": {
      "provenance": []
    },
    "kernelspec": {
      "name": "python3",
      "display_name": "Python 3"
    },
    "language_info": {
      "name": "python"
    }
  },
  "cells": [
    {
      "cell_type": "markdown",
      "source": [
        "# Random Forest Model Code"
      ],
      "metadata": {
        "id": "GWaNSDPKXQxQ"
      }
    },
    {
      "cell_type": "code",
      "execution_count": 1,
      "metadata": {
        "id": "CXCu9H_nN3U8"
      },
      "outputs": [],
      "source": [
        "import torch\n",
        "import numpy as np\n",
        "import pandas as pd\n",
        "import torch.nn as nn\n",
        "import torch.nn.functional as F\n",
        "from matplotlib import pyplot as plt\n",
        "from sklearn.model_selection import train_test_split, cross_val_score, KFold\n",
        "from sklearn.ensemble import RandomForestClassifier\n",
        "from sklearn.metrics import accuracy_score, roc_auc_score, roc_curve, confusion_matrix, ConfusionMatrixDisplay\n",
        "\n",
        "from sklearn.preprocessing import LabelEncoder\n",
        "from sklearn.tree import export_text\n",
        "from sklearn import tree\n",
        "from graphviz import Source\n",
        "from IPython.display import SVG\n",
        "import os, requests\n",
        "import random\n",
        "import glob"
      ]
    },
    {
      "cell_type": "code",
      "source": [
        "from google.colab import drive\n",
        "drive.mount('/content/drive')"
      ],
      "metadata": {
        "colab": {
          "base_uri": "https://localhost:8080/"
        },
        "id": "xcPVji6JNcgx",
        "outputId": "4817e917-bca9-4731-d0aa-d26d059f63fd"
      },
      "execution_count": 2,
      "outputs": [
        {
          "output_type": "stream",
          "name": "stdout",
          "text": [
            "Mounted at /content/drive\n"
          ]
        }
      ]
    },
    {
      "cell_type": "markdown",
      "source": [
        "Data Loading and Preprocessing"
      ],
      "metadata": {
        "id": "T0ozt4QWRdSO"
      }
    },
    {
      "cell_type": "code",
      "source": [
        "# Retrieve files names of the input/output data\n",
        "# Need to make sure your path is correct\n",
        "\n",
        "hc_files = sorted(glob.glob('/content/drive/MyDrive/CSCI 5527/Rat Data From Dave/Valid Trials Data/*_KDHC.dat'))\n",
        "pf_files = sorted(glob.glob('/content/drive/MyDrive/CSCI 5527/Rat Data From Dave/Valid Trials Data/*_KDPF.dat'))\n",
        "target_files = sorted(glob.glob('/content/drive/MyDrive/CSCI 5527/Rat Data From Dave/Valid Trials Data/*_KD.csv'))\n",
        "\n",
        "# If you want to use the RD data (some future cells might not work depending on the number of neurons/sessions in RD data)\n",
        "#hc_files = sorted(glob.glob('/content/drive/MyDrive/CSCI 5527/Rat Data From Dave/Valid Trials Data/*_RDHC.dat'))\n",
        "#pf_files = sorted(glob.glob('/content/drive/MyDrive/CSCI 5527/Rat Data From Dave/Valid Trials Data/*_RDPF.dat'))\n",
        "#target_files = sorted(glob.glob('/content/drive/MyDrive/CSCI 5527/Rat Data From Dave/Valid Trials Data/*_RD.csv'))\n",
        "\n",
        "print(len(hc_files))\n",
        "print(len(pf_files))\n",
        "print(len(target_files))"
      ],
      "metadata": {
        "id": "YxN0xygRNGjO",
        "colab": {
          "base_uri": "https://localhost:8080/"
        },
        "outputId": "a1ff15c1-aa27-4435-f278-daf2fa590a2d"
      },
      "execution_count": 3,
      "outputs": [
        {
          "output_type": "stream",
          "name": "stdout",
          "text": [
            "26\n",
            "26\n",
            "26\n"
          ]
        }
      ]
    },
    {
      "cell_type": "code",
      "source": [
        "# Read in data for each session into a list\n",
        "\n",
        "hc_data = []\n",
        "targets = []\n",
        "\n",
        "pf_data = []\n",
        "pf_targets = []\n",
        "\n",
        "# Get into trials x neurons x timestamp format\n",
        "for i in range(len(hc_files)):\n",
        "\n",
        "  hc_df = pd.read_csv(hc_files[i], delimiter=',')\n",
        "  hc_data.append(hc_df.values.reshape(hc_df.shape[0],int(hc_df.shape[1]/400),400))\n",
        "\n",
        "  pf_df = pd.read_csv(pf_files[i], delimiter=',')\n",
        "  pf_data.append(pf_df.values.reshape(pf_df.shape[0],int(pf_df.shape[1]/400),400))\n",
        "\n",
        "  targets.append(pd.read_csv(target_files[i], delimiter=','))\n",
        "  print(i)"
      ],
      "metadata": {
        "colab": {
          "base_uri": "https://localhost:8080/"
        },
        "id": "lsgZWUyCPy4Y",
        "outputId": "0c863b43-b9b8-4578-e7d1-b1fe0066d518"
      },
      "execution_count": 4,
      "outputs": [
        {
          "output_type": "stream",
          "name": "stdout",
          "text": [
            "0\n",
            "1\n",
            "2\n",
            "3\n",
            "4\n",
            "5\n",
            "6\n",
            "7\n",
            "8\n",
            "9\n",
            "10\n",
            "11\n",
            "12\n",
            "13\n",
            "14\n",
            "15\n",
            "16\n",
            "17\n",
            "18\n",
            "19\n",
            "20\n",
            "21\n",
            "22\n",
            "23\n",
            "24\n",
            "25\n"
          ]
        }
      ]
    },
    {
      "cell_type": "code",
      "source": [
        "# Determine the amount of neurons/trials each session has as well as the minimum amount of neurons/trials across sessions\n",
        "\n",
        "hc_num_neurons = np.array([])\n",
        "hc_num_trials = np.array([])\n",
        "pf_num_neurons = np.array([])\n",
        "pf_num_trials = np.array([])\n",
        "\n",
        "for i in range(len(hc_data)):\n",
        "  hc_num_neurons = np.append(hc_num_neurons, hc_data[i].shape[1])\n",
        "  hc_num_trials = np.append(hc_num_trials, hc_data[i].shape[0])\n",
        "\n",
        "  pf_num_neurons = np.append(pf_num_neurons, pf_data[i].shape[1])\n",
        "  pf_num_trials = np.append(pf_num_trials, pf_data[i].shape[0])\n",
        "\n",
        "hc_min_neurons = int(min(hc_num_neurons))\n",
        "hc_min_trials = int(min(hc_num_trials))\n",
        "\n",
        "pf_min_neurons = int(min(pf_num_neurons))\n",
        "pf_min_trials = int(min(pf_num_trials))\n",
        "\n",
        "print(hc_min_neurons)\n",
        "print(pf_min_neurons)"
      ],
      "metadata": {
        "colab": {
          "base_uri": "https://localhost:8080/"
        },
        "id": "wMnqPM6pol4q",
        "outputId": "c5ce9916-4913-46a9-8c70-7a5ca665cf30"
      },
      "execution_count": 5,
      "outputs": [
        {
          "output_type": "stream",
          "name": "stdout",
          "text": [
            "13\n",
            "5\n"
          ]
        }
      ]
    },
    {
      "cell_type": "code",
      "source": [
        "print(hc_num_neurons)\n",
        "print((pf_num_neurons))"
      ],
      "metadata": {
        "colab": {
          "base_uri": "https://localhost:8080/"
        },
        "id": "kHnAAFNlARBN",
        "outputId": "67ebd9b2-c351-4c04-bb20-acf4ea2876c0"
      },
      "execution_count": 6,
      "outputs": [
        {
          "output_type": "stream",
          "name": "stdout",
          "text": [
            "[31. 15. 16. 13. 85. 48. 48. 36. 44. 63. 41. 59. 41. 43. 21. 18. 41. 38.\n",
            " 23. 44. 59. 26. 54. 66. 56. 40.]\n",
            "[13.  9.  5.  6. 26. 18. 23. 18. 68. 69. 63. 47. 50. 51. 53. 42. 55. 42.\n",
            " 37. 78. 71. 54.  5. 10.  8. 22.]\n"
          ]
        }
      ]
    },
    {
      "cell_type": "markdown",
      "source": [
        "Arranging data into various formats by doing different operations and/or using only certain sessions/neurons:\n",
        "\n",
        "Pick one cell to run to use for testing the RF model later on."
      ],
      "metadata": {
        "id": "oz2kpO8TRi78"
      }
    },
    {
      "cell_type": "code",
      "source": [
        "# Use all sessions but only the minimum number of neurons in HC and PF data respectively (13 and 5)\n",
        "# Resulting format: trials x (neurons * timestamps)\n",
        "\n",
        "hc_sample = hc_data[0][:,0:hc_min_neurons,:]\n",
        "hc_spike_data = hc_sample.reshape(hc_sample.shape[0], hc_sample.shape[1]*hc_sample.shape[2])\n",
        "\n",
        "pf_sample = pf_data[0][:,0:pf_min_neurons,:]\n",
        "pf_spike_data = pf_sample.reshape(pf_sample.shape[0], pf_sample.shape[1]*pf_sample.shape[2])\n",
        "\n",
        "target_data = targets[0]\n",
        "\n",
        "for j in range(1, len(hc_data)):\n",
        "\n",
        "  hc_sample = hc_data[j][:,0:hc_min_neurons,:]\n",
        "  hc_spike = hc_sample.reshape(hc_sample.shape[0], hc_sample.shape[1]*hc_sample.shape[2])\n",
        "\n",
        "  pf_sample = pf_data[j][:,0:pf_min_neurons,:]\n",
        "  pf_spike = pf_sample.reshape(pf_sample.shape[0], pf_sample.shape[1]*pf_sample.shape[2])\n",
        "\n",
        "  hc_spike_data = np.vstack((hc_spike_data, hc_spike))\n",
        "  pf_spike_data = np.vstack((pf_spike_data, pf_spike))\n",
        "\n",
        "  target_data = np.append(target_data, targets[j])\n",
        "\n",
        "print(hc_spike_data.shape)\n",
        "print(pf_spike_data.shape)\n",
        "print(target_data.shape)"
      ],
      "metadata": {
        "colab": {
          "base_uri": "https://localhost:8080/"
        },
        "id": "407pFSqIVtVz",
        "outputId": "19e1e230-33b1-4e88-a640-707032ab0be5"
      },
      "execution_count": 7,
      "outputs": [
        {
          "output_type": "stream",
          "name": "stdout",
          "text": [
            "(2801, 5200)\n",
            "(2801, 2000)\n",
            "(2801,)\n"
          ]
        }
      ]
    },
    {
      "cell_type": "code",
      "source": [
        "# Use all sessions but only the minimum number of neurons in HC and PF data respectively (13 and 5)\n",
        "# Take random min. neurons instead of first amount\n",
        "# Resulting format: trials x (neurons * timestamps)\n",
        "\n",
        "hc_sample = hc_data[0][:,np.random.choice(hc_data[0].shape[1], 13, replace = False),:]\n",
        "hc_spike_data = hc_sample.reshape(hc_sample.shape[0], hc_sample.shape[1]*hc_sample.shape[2])\n",
        "\n",
        "pf_sample = pf_data[0][:,np.random.choice(pf_data[0].shape[1], 5, replace = False),:]\n",
        "pf_spike_data = pf_sample.reshape(pf_sample.shape[0], pf_sample.shape[1]*pf_sample.shape[2])\n",
        "\n",
        "target_data = targets[0]\n",
        "\n",
        "for j in range(1, len(hc_data)):\n",
        "\n",
        "  hc_sample = hc_data[j][:,np.random.choice(hc_data[j].shape[1], 13, replace = False),:]\n",
        "  hc_spike = hc_sample.reshape(hc_sample.shape[0], hc_sample.shape[1]*hc_sample.shape[2])\n",
        "\n",
        "  pf_sample = pf_data[j][:,np.random.choice(pf_data[j].shape[1], 5, replace = False),:]\n",
        "  pf_spike = pf_sample.reshape(pf_sample.shape[0], pf_sample.shape[1]*pf_sample.shape[2])\n",
        "\n",
        "  hc_spike_data = np.vstack((hc_spike_data, hc_spike))\n",
        "  pf_spike_data = np.vstack((pf_spike_data, pf_spike))\n",
        "\n",
        "  target_data = np.append(target_data, targets[j])\n",
        "\n",
        "print(hc_spike_data.shape)\n",
        "print(pf_spike_data.shape)\n",
        "print(target_data.shape)"
      ],
      "metadata": {
        "colab": {
          "base_uri": "https://localhost:8080/"
        },
        "id": "-1K0OhRcVtEY",
        "outputId": "1434e215-3e63-4989-c90b-43bc5172140a"
      },
      "execution_count": 36,
      "outputs": [
        {
          "output_type": "stream",
          "name": "stdout",
          "text": [
            "(2801, 5200)\n",
            "(2801, 2000)\n",
            "(2801,)\n"
          ]
        }
      ]
    },
    {
      "cell_type": "code",
      "source": [
        "# Use top 15 sessions with largest amount of neurons from PF data and corresponding HC sessions\n",
        "# Determined through manual inspection, sessions should be the same for HC and PF\n",
        "# Resulting format: trials x (neurons * timestamps)\n",
        "\n",
        "hc_data_2 = (np.array(hc_data)[np.argsort(pf_num_neurons)])[11:len(hc_data)]\n",
        "targets_2 = (np.array(targets)[np.argsort(pf_num_neurons)])[11:len(targets)]\n",
        "pf_data_2 = (np.array(pf_data)[np.argsort(pf_num_neurons)])[11:len(pf_data)]\n",
        "\n",
        "print(len(hc_data_2),len(targets_2),len(pf_data_2))\n",
        "\n",
        "hc_min_neurons = 18\n",
        "pf_min_neurons = 26\n",
        "\n",
        "hc_sample = hc_data_2[0][:,0:hc_min_neurons,:]\n",
        "hc_spike_data = hc_sample.reshape(hc_sample.shape[0], hc_sample.shape[1]*hc_sample.shape[2])\n",
        "\n",
        "pf_sample = pf_data_2[0][:,0:pf_min_neurons,:]\n",
        "pf_spike_data = pf_sample.reshape(pf_sample.shape[0], pf_sample.shape[1]*pf_sample.shape[2])\n",
        "\n",
        "target_data = targets_2[0]\n",
        "\n",
        "for j in range(1, len(hc_data_2)):\n",
        "\n",
        "  hc_sample = hc_data_2[j][:,0:hc_min_neurons,:]\n",
        "  hc_spike = hc_sample.reshape(hc_sample.shape[0], hc_sample.shape[1]*hc_sample.shape[2])\n",
        "\n",
        "  pf_sample = pf_data_2[j][:,0:pf_min_neurons,:]\n",
        "  pf_spike = pf_sample.reshape(pf_sample.shape[0], pf_sample.shape[1]*pf_sample.shape[2])\n",
        "\n",
        "  hc_spike_data = np.vstack((hc_spike_data, hc_spike))\n",
        "  pf_spike_data = np.vstack((pf_spike_data, pf_spike))\n",
        "\n",
        "  target_data = np.append(target_data, targets_2[j])\n",
        "\n",
        "print(hc_spike_data.shape)\n",
        "print(pf_spike_data.shape)\n",
        "print(target_data.shape)"
      ],
      "metadata": {
        "colab": {
          "base_uri": "https://localhost:8080/"
        },
        "id": "StJX7yy6Ai24",
        "outputId": "d39b12d1-f597-424b-bd9e-f476ecffbd76"
      },
      "execution_count": 37,
      "outputs": [
        {
          "output_type": "stream",
          "name": "stderr",
          "text": [
            "<ipython-input-37-67d3a5d812f6>:5: VisibleDeprecationWarning: Creating an ndarray from ragged nested sequences (which is a list-or-tuple of lists-or-tuples-or ndarrays with different lengths or shapes) is deprecated. If you meant to do this, you must specify 'dtype=object' when creating the ndarray.\n",
            "  hc_data_2 = (np.array(hc_data)[np.argsort(pf_num_neurons)])[11:len(hc_data)]\n",
            "<ipython-input-37-67d3a5d812f6>:6: VisibleDeprecationWarning: Creating an ndarray from ragged nested sequences (which is a list-or-tuple of lists-or-tuples-or ndarrays with different lengths or shapes) is deprecated. If you meant to do this, you must specify 'dtype=object' when creating the ndarray.\n",
            "  targets_2 = (np.array(targets)[np.argsort(pf_num_neurons)])[11:len(targets)]\n",
            "<ipython-input-37-67d3a5d812f6>:7: VisibleDeprecationWarning: Creating an ndarray from ragged nested sequences (which is a list-or-tuple of lists-or-tuples-or ndarrays with different lengths or shapes) is deprecated. If you meant to do this, you must specify 'dtype=object' when creating the ndarray.\n",
            "  pf_data_2 = (np.array(pf_data)[np.argsort(pf_num_neurons)])[11:len(pf_data)]\n"
          ]
        },
        {
          "output_type": "stream",
          "name": "stdout",
          "text": [
            "15 15 15\n",
            "(1733, 7200)\n",
            "(1733, 10400)\n",
            "(1733,)\n"
          ]
        }
      ]
    },
    {
      "cell_type": "code",
      "source": [
        "# Only use sessions which have at least 38 neurons (17 and 13 for HC and PF respectively)\n",
        "# HC and PF sessions will likely differ, so cannot concatenate later\n",
        "# Resulting format: trials x (neurons * timestamps)\n",
        "\n",
        "# Limit data to sessions with >= 38 neurons\n",
        "hc_data_2 = (np.array(hc_data)[hc_num_neurons >= 38])\n",
        "hc_targets_2 = (np.array(targets)[hc_num_neurons >= 38])\n",
        "pf_data_2 = (np.array(pf_data)[pf_num_neurons >= 38])\n",
        "pf_targets_2 = (np.array(targets)[pf_num_neurons >= 38])\n",
        "\n",
        "print(np.sum([hc_num_neurons >= 38]), np.sum([pf_num_neurons >= 38]))\n",
        "\n",
        "hc_sample = hc_data_2[0][:,0:38,:]\n",
        "hc_spike_data = hc_sample.reshape(hc_sample.shape[0],hc_sample.shape[1]*hc_sample.shape[2])\n",
        "\n",
        "pf_sample = pf_data_2[0][:,0:38,:]\n",
        "pf_spike_data = pf_sample.reshape(pf_sample.shape[0],pf_sample.shape[1]*pf_sample.shape[2])\n",
        "\n",
        "hc_target_data = hc_targets_2[0]\n",
        "pf_target_data = pf_targets_2[0]\n",
        "\n",
        "for j in range(1, len(hc_data_2)):\n",
        "\n",
        "  hc_sample = hc_data_2[j][:,0:38,:]\n",
        "  hc_spike = hc_sample.reshape(hc_sample.shape[0],hc_sample.shape[1]*hc_sample.shape[2])\n",
        "\n",
        "\n",
        "  hc_spike_data = np.vstack((hc_spike_data, hc_spike))\n",
        "\n",
        "  hc_target_data = np.append(hc_target_data, hc_targets_2[j])\n",
        "\n",
        "for j in range(1, len(pf_data_2)):\n",
        "\n",
        "\n",
        "  pf_sample = pf_data_2[j][:,0:38,:]\n",
        "  pf_spike = pf_sample.reshape(pf_sample.shape[0],pf_sample.shape[1]*pf_sample.shape[2])\n",
        "\n",
        "  pf_spike_data = np.vstack((pf_spike_data, pf_spike))\n",
        "\n",
        "  pf_target_data = np.append(pf_target_data, pf_targets_2[j])\n",
        "\n",
        "print(hc_spike_data.shape)\n",
        "print(pf_spike_data.shape)\n",
        "print(hc_target_data.shape)\n",
        "print(pf_target_data.shape)"
      ],
      "metadata": {
        "colab": {
          "base_uri": "https://localhost:8080/"
        },
        "id": "s2fSMKbz_YZM",
        "outputId": "258be3ba-d4e7-4d92-d388-57f1360a1e6b"
      },
      "execution_count": 39,
      "outputs": [
        {
          "output_type": "stream",
          "name": "stderr",
          "text": [
            "<ipython-input-39-c5a121d9b737>:6: VisibleDeprecationWarning: Creating an ndarray from ragged nested sequences (which is a list-or-tuple of lists-or-tuples-or ndarrays with different lengths or shapes) is deprecated. If you meant to do this, you must specify 'dtype=object' when creating the ndarray.\n",
            "  hc_data_2 = (np.array(hc_data)[hc_num_neurons >= 38])\n",
            "<ipython-input-39-c5a121d9b737>:7: VisibleDeprecationWarning: Creating an ndarray from ragged nested sequences (which is a list-or-tuple of lists-or-tuples-or ndarrays with different lengths or shapes) is deprecated. If you meant to do this, you must specify 'dtype=object' when creating the ndarray.\n",
            "  hc_targets_2 = (np.array(targets)[hc_num_neurons >= 38])\n",
            "<ipython-input-39-c5a121d9b737>:8: VisibleDeprecationWarning: Creating an ndarray from ragged nested sequences (which is a list-or-tuple of lists-or-tuples-or ndarrays with different lengths or shapes) is deprecated. If you meant to do this, you must specify 'dtype=object' when creating the ndarray.\n",
            "  pf_data_2 = (np.array(pf_data)[pf_num_neurons >= 38])\n",
            "<ipython-input-39-c5a121d9b737>:9: VisibleDeprecationWarning: Creating an ndarray from ragged nested sequences (which is a list-or-tuple of lists-or-tuples-or ndarrays with different lengths or shapes) is deprecated. If you meant to do this, you must specify 'dtype=object' when creating the ndarray.\n",
            "  pf_targets_2 = (np.array(targets)[pf_num_neurons >= 38])\n"
          ]
        },
        {
          "output_type": "stream",
          "name": "stdout",
          "text": [
            "17 13\n",
            "(1687, 15200)\n",
            "(1533, 15200)\n",
            "(1687,)\n",
            "(1533,)\n"
          ]
        }
      ]
    },
    {
      "cell_type": "code",
      "source": [
        "# Use all sessions but only the minimum number of neurons in HC and PF data respectively\n",
        "# Then sum across neurons\n",
        "# Resulting format: trials x timestamps\n",
        "\n",
        "hc_spike_data = np.array([])\n",
        "target_data = np.array([])\n",
        "pf_spike_data = np.array([])\n",
        "\n",
        "hc_sample = np.sum(hc_data[0][:,0:hc_min_neurons,:], axis=1)\n",
        "hc_spike_data = hc_sample\n",
        "\n",
        "pf_sample = np.sum(pf_data[0][:,0:pf_min_neurons,:], axis=1)\n",
        "pf_spike_data = pf_sample\n",
        "\n",
        "target_data = targets[0]\n",
        "\n",
        "for j in range(1, len(hc_data)):\n",
        "\n",
        "  hc_sample = np.sum(hc_data[j][:,0:hc_min_neurons,:], axis=1)\n",
        "  hc_spike = hc_sample\n",
        "\n",
        "  pf_sample = np.sum(pf_data[j][:,0:pf_min_neurons,:], axis=1)\n",
        "  pf_spike = pf_sample\n",
        "\n",
        "  hc_spike_data = np.vstack((hc_spike_data, hc_spike))\n",
        "  pf_spike_data = np.vstack((pf_spike_data, pf_spike))\n",
        "\n",
        "  target_data = np.append(target_data, targets[j])\n",
        "\n",
        "print(hc_spike_data.shape)\n",
        "print(pf_spike_data.shape)\n",
        "print(target_data.shape)"
      ],
      "metadata": {
        "colab": {
          "base_uri": "https://localhost:8080/"
        },
        "id": "Zzmvxy_v1nVj",
        "outputId": "97a05e67-ed64-4b09-b35c-44cee15494ca"
      },
      "execution_count": 40,
      "outputs": [
        {
          "output_type": "stream",
          "name": "stdout",
          "text": [
            "(2801, 400)\n",
            "(2801, 400)\n",
            "(2801,)\n"
          ]
        }
      ]
    },
    {
      "cell_type": "code",
      "source": [
        "# Use all sessions by summing across all neurons\n",
        "# Resulting Format: trials x timestamps\n",
        "\n",
        "hc_spike_data = np.array([])\n",
        "target_data = np.array([])\n",
        "pf_spike_data = np.array([])\n",
        "\n",
        "hc_sample = np.sum(hc_data[0],axis=1)\n",
        "hc_spike_data = hc_sample\n",
        "\n",
        "pf_sample = np.sum(pf_data[0],axis=1)\n",
        "pf_spike_data = pf_sample\n",
        "\n",
        "target_data = targets[0]\n",
        "\n",
        "for j in range(1, len(hc_data)):\n",
        "\n",
        "  hc_spike = np.sum(hc_data[j],axis=1)\n",
        "\n",
        "  pf_spike = np.sum(pf_data[j],axis=1)\n",
        "\n",
        "  hc_spike_data = np.vstack((hc_spike_data, hc_spike))\n",
        "  pf_spike_data = np.vstack((pf_spike_data, pf_spike))\n",
        "\n",
        "  target_data = np.append(target_data, targets[j])\n",
        "\n",
        "print(hc_spike_data.shape)\n",
        "print(pf_spike_data.shape)\n",
        "print(target_data.shape)"
      ],
      "metadata": {
        "colab": {
          "base_uri": "https://localhost:8080/"
        },
        "id": "oNgR4ig4WXGj",
        "outputId": "dafbdaaa-d691-4067-c699-fc61d26a7d83"
      },
      "execution_count": 41,
      "outputs": [
        {
          "output_type": "stream",
          "name": "stdout",
          "text": [
            "(2801, 400)\n",
            "(2801, 400)\n",
            "(2801,)\n"
          ]
        }
      ]
    },
    {
      "cell_type": "code",
      "source": [
        "# Use all available data by putting it into long format\n",
        "# Resulting format: (trials * neurons) x timestamps\n",
        "\n",
        "hc_sample = hc_data[0]\n",
        "hc_spike_data = hc_sample.reshape(hc_sample.shape[0]*hc_sample.shape[1], hc_sample.shape[2])\n",
        "\n",
        "pf_sample = pf_data[0]\n",
        "pf_spike_data = pf_sample.reshape(pf_sample.shape[0]*pf_sample.shape[1], pf_sample.shape[2])\n",
        "\n",
        "# Need to repeat target variable since each set of neurons is from same trial / resulting target\n",
        "hc_target_data = np.repeat(np.array(targets[0]).flatten(), hc_data[0].shape[1])\n",
        "pf_target_data = np.repeat(np.array(targets[0]).flatten(), pf_data[0].shape[1])\n",
        "\n",
        "for j in range(1, len(hc_data)):\n",
        "\n",
        "  hc_sample = hc_data[j]\n",
        "  hc_spike = hc_sample.reshape(hc_sample.shape[0]*hc_sample.shape[1], hc_sample.shape[2])\n",
        "\n",
        "  pf_sample = pf_data[j]\n",
        "  pf_spike = pf_sample.reshape(pf_sample.shape[0]*pf_sample.shape[1], pf_sample.shape[2])\n",
        "\n",
        "  hc_spike_data = np.vstack((hc_spike_data, hc_spike))\n",
        "  pf_spike_data = np.vstack((pf_spike_data, pf_spike))\n",
        "\n",
        "  hc_target_data = np.append(hc_target_data, np.repeat(np.array(targets[j]).flatten(), hc_data[j].shape[1]))\n",
        "  pf_target_data = np.append(pf_target_data, np.repeat(np.array(targets[j]).flatten(), pf_data[j].shape[1]))\n",
        "\n",
        "print(hc_spike_data.shape)\n",
        "print(pf_spike_data.shape)\n",
        "print(hc_target_data.shape)\n",
        "print(pf_target_data.shape)"
      ],
      "metadata": {
        "colab": {
          "base_uri": "https://localhost:8080/"
        },
        "id": "dgPr22MBW6Wg",
        "outputId": "fa74a38f-b88b-49cc-ccc7-308c803222f1"
      },
      "execution_count": 42,
      "outputs": [
        {
          "output_type": "stream",
          "name": "stdout",
          "text": [
            "(106474, 400)\n",
            "(106582, 400)\n",
            "(106474,)\n",
            "(106582,)\n"
          ]
        }
      ]
    },
    {
      "cell_type": "markdown",
      "source": [
        "Optionally concatenate HC and PF inpute data together, usually results in better performance."
      ],
      "metadata": {
        "id": "J_vDPq9uTPeF"
      }
    },
    {
      "cell_type": "code",
      "source": [
        "# Concatenate HC anf PF Data together as long the have the same .shape[0] dimension\n",
        "# Do not need to concatenate targets since they should be the same in this case\n",
        "\n",
        "hc_pf_data = np.hstack((hc_spike_data, pf_spike_data))\n",
        "\n",
        "print(hc_pf_data.shape)"
      ],
      "metadata": {
        "id": "32nWY52x7WyJ",
        "colab": {
          "base_uri": "https://localhost:8080/"
        },
        "outputId": "6bd5b633-5eec-4768-e098-235eec8d9015"
      },
      "execution_count": 28,
      "outputs": [
        {
          "output_type": "stream",
          "name": "stdout",
          "text": [
            "(2801, 7200)\n"
          ]
        }
      ]
    },
    {
      "cell_type": "markdown",
      "source": [
        "Do a train/test split on the input/output data"
      ],
      "metadata": {
        "id": "MFbaLthRTWxR"
      }
    },
    {
      "cell_type": "code",
      "source": [
        "device = torch.device('cuda' if torch.cuda.is_available() else 'cpu')\n",
        "print(f\"Using device: {device}\")\n",
        "\n",
        "# Convert to PyTorch tensor and move to the appropriate device\n",
        "X = torch.from_numpy(hc_pf_data).to(device)\n",
        "y = torch.from_numpy(target_data).to(device)"
      ],
      "metadata": {
        "colab": {
          "base_uri": "https://localhost:8080/"
        },
        "id": "Y_uDKfX2V_sK",
        "outputId": "0a1923ff-2f65-4505-914b-4f02857d28ea"
      },
      "execution_count": 29,
      "outputs": [
        {
          "output_type": "stream",
          "name": "stdout",
          "text": [
            "Using device: cpu\n"
          ]
        }
      ]
    },
    {
      "cell_type": "code",
      "source": [
        "# Split input into train/test data\n",
        "\n",
        "X_train, X_test, y_train, y_test = train_test_split(X, y, test_size=0.33, random_state=42)\n",
        "\n",
        "X_train = X_train.to(device)\n",
        "X_test = X_test.to(device)\n",
        "y_train = y_train.to(device)\n",
        "y_test = y_test.to(device)\n"
      ],
      "metadata": {
        "id": "BZue5BPhWLhQ"
      },
      "execution_count": 30,
      "outputs": []
    },
    {
      "cell_type": "markdown",
      "source": [
        "Run the Random Forest model\n",
        "\n",
        "Recommended: Run the RF model on fixed random state train/test data in order to test out the optimal value for n_estimators, and then run 3 times in next cell to get mean test accuracy."
      ],
      "metadata": {
        "id": "bkPIhfv4Tiei"
      }
    },
    {
      "cell_type": "code",
      "source": [
        "# Initialize RF model, train model, predict on test data, print accuraacy\n",
        "\n",
        "optimal_nest = 450\n",
        "\n",
        "model = RandomForestClassifier(n_estimators=optimal_nest, random_state=24)\n",
        "\n",
        "model.fit(X_train, y_train)\n",
        "\n",
        "y_predict = model.predict(X_test)\n",
        "\n",
        "print(accuracy_score(y_test, y_predict))\n",
        "print(roc_auc_score(y_test, y_predict))"
      ],
      "metadata": {
        "colab": {
          "base_uri": "https://localhost:8080/"
        },
        "id": "-tWKmAVHWcOx",
        "outputId": "c75402b5-4842-43ba-e2cc-9fa61d2d1265"
      },
      "execution_count": 34,
      "outputs": [
        {
          "output_type": "stream",
          "name": "stdout",
          "text": [
            "0.6356756756756756\n",
            "0.588199067421332\n"
          ]
        }
      ]
    },
    {
      "cell_type": "code",
      "source": [
        "# Train model and predict 3 times and print out mean accuracy and std\n",
        "accuracy_scores = []\n",
        "\n",
        "for i in range(3):\n",
        "\n",
        "  # Split input into train/test data\n",
        "\n",
        "  X_train, X_test, y_train, y_test = train_test_split(X, y, test_size=0.33)\n",
        "\n",
        "  X_train = X_train.to(device)\n",
        "  X_test = X_test.to(device)\n",
        "  y_train = y_train.to(device)\n",
        "  y_test = y_test.to(device)\n",
        "\n",
        "  model = RandomForestClassifier(n_estimators=optimal_nest, random_state=24)\n",
        "  model.fit(X_train, y_train)\n",
        "\n",
        "  y_predict = model.predict(X_test)\n",
        "\n",
        "  accuracy_scores.append(accuracy_score(y_test, y_predict))\n",
        "\n",
        "print(\"Mean Test Accuracy: \", np.mean(accuracy_scores))\n",
        "print(\"Standard Deviation of Test Accuracy: \", np.std(accuracy_scores))"
      ],
      "metadata": {
        "colab": {
          "base_uri": "https://localhost:8080/"
        },
        "id": "0Fhd0_uhQYWy",
        "outputId": "ef680eb5-c24f-4241-e77d-1d2e71067a14"
      },
      "execution_count": 35,
      "outputs": [
        {
          "output_type": "stream",
          "name": "stdout",
          "text": [
            "Mean Test Accuracy:  0.6410810810810811\n",
            "Standard Deviation of Test Accuracy:  0.010406867804103515\n"
          ]
        }
      ]
    },
    {
      "cell_type": "code",
      "source": [
        "accuracy_scores"
      ],
      "metadata": {
        "colab": {
          "base_uri": "https://localhost:8080/"
        },
        "id": "vE7m5xNscVFE",
        "outputId": "7856b887-663c-47b6-af2c-a5af5df80653"
      },
      "execution_count": 27,
      "outputs": [
        {
          "output_type": "execute_result",
          "data": {
            "text/plain": [
              "[0.5772972972972973, 0.56, 0.5697297297297297]"
            ]
          },
          "metadata": {},
          "execution_count": 27
        }
      ]
    },
    {
      "cell_type": "code",
      "source": [
        "# Calculate NIR for test target data\n",
        "\n",
        "NIR_Num = sum(y_test==0).int()\n",
        "NIR_Den = len(y_test)\n",
        "NIR = max((NIR_Num/NIR_Den),1-(NIR_Num/NIR_Den))\n",
        "print(NIR)"
      ],
      "metadata": {
        "id": "Lt_1R2GYxujb",
        "colab": {
          "base_uri": "https://localhost:8080/"
        },
        "outputId": "337d2a90-5719-4d7d-eb10-9da64a7e0c2f"
      },
      "execution_count": null,
      "outputs": [
        {
          "output_type": "stream",
          "name": "stdout",
          "text": [
            "tensor(0.5996)\n"
          ]
        }
      ]
    },
    {
      "cell_type": "code",
      "source": [
        "# Perform 5-fold cross validation\n",
        "\n",
        "k = 5\n",
        "\n",
        "kf = KFold(n_splits=k, shuffle=True, random_state=24)\n",
        "\n",
        "validation = cross_val_score(model, X_train, y_train, cv=kf, scoring=\"accuracy\")\n",
        "\n",
        "print(np.mean(validation))"
      ],
      "metadata": {
        "colab": {
          "base_uri": "https://localhost:8080/"
        },
        "id": "_JD1Em0AWMru",
        "outputId": "80695c1e-b3a7-4f6c-a872-469a6261299d"
      },
      "execution_count": null,
      "outputs": [
        {
          "output_type": "stream",
          "name": "stdout",
          "text": [
            "0.5751617021276596\n"
          ]
        }
      ]
    },
    {
      "cell_type": "code",
      "source": [
        "# Plot confusion matrix\n",
        "\n",
        "cm = confusion_matrix(y_test, y_predict)\n",
        "\n",
        "disp = ConfusionMatrixDisplay(confusion_matrix=cm, display_labels=model.classes_)\n",
        "disp.plot()\n",
        "plt.show()"
      ],
      "metadata": {
        "colab": {
          "base_uri": "https://localhost:8080/",
          "height": 449
        },
        "id": "UAx2I0w1iAJm",
        "outputId": "6518cb14-7e05-4ded-879b-7cceffe52b90"
      },
      "execution_count": 25,
      "outputs": [
        {
          "output_type": "display_data",
          "data": {
            "text/plain": [
              "<Figure size 640x480 with 2 Axes>"
            ],
            "image/png": "[encoded data removed]"
          },
          "metadata": {}
        }
      ]
    }
  ]
}